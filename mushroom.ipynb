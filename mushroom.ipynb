{
 "cells": [
  {
   "cell_type": "markdown",
   "metadata": {},
   "source": [
    "# Mushroom Project (CHANGE)\n",
    "## Introduction\n",
    "\n",
    "In this project, my goal is to use binomial logistic regression to predict whether a mushroom is edible or poisonous. The idea is to gain more experience with exploratory data analysis, data cleaning, building binomial logistic regression models, and testing model assumptions. \n",
    "\n",
    "The data I am using is the [Mushroom dataset](https://archive.ics.uci.edu/dataset/73/mushroom) from the UCI Machine Learning Repository. The dataset has 8,124 observations with 22 features, was created in 1987, and last updated on August 10, 2023. Each row in the dataset represents an observation of one mushroom from one of 23 species of gilled mushrooms in the Agaricus and Lepiota Family, along with corresponding characteristics sush as shape, color, habitat, etc. that can be used to predict its edibility."
   ]
  },
  {
   "cell_type": "markdown",
   "metadata": {},
   "source": [
    "## Step 1: Imports\n",
    "### Import Packages\n",
    "\n",
    "For this project, I will use the following packages:\n",
    "* Pandas\n",
    "* TODO"
   ]
  },
  {
   "cell_type": "code",
   "execution_count": 150,
   "metadata": {},
   "outputs": [],
   "source": [
    "# Standard data processing packages\n",
    "import pandas as pd\n",
    "import numpy as np\n",
    "\n",
    "# Preprocessing, modeling, and evaluation packages\n",
    "from sklearn.model_selection import train_test_split\n",
    "from sklearn.preprocessing import OneHotEncoder\n",
    "from sklearn.linear_model import LogisticRegression\n",
    "import sklearn.metrics as metrics\n",
    "import scipy.stats as stats\n",
    "from scipy.stats import chi2\n",
    "\n",
    "# Data visualization packages\n",
    "import seaborn as sns\n",
    "import matplotlib.pyplot as plt\n",
    "\n",
    "# Used to fetch data from the UCI repository\n",
    "from ucimlrepo import fetch_ucirepo "
   ]
  },
  {
   "cell_type": "markdown",
   "metadata": {},
   "source": [
    "### Load the Dataset\n",
    "\n",
    "Load in the data and display the variables. We can see that all the variables are categorical, with two being binary."
   ]
  },
  {
   "cell_type": "code",
   "execution_count": 151,
   "metadata": {},
   "outputs": [
    {
     "name": "stdout",
     "output_type": "stream",
     "text": [
      "                        name     role         type demographic  \\\n",
      "0                  poisonous   Target  Categorical        None   \n",
      "1                  cap-shape  Feature  Categorical        None   \n",
      "2                cap-surface  Feature  Categorical        None   \n",
      "3                  cap-color  Feature       Binary        None   \n",
      "4                    bruises  Feature  Categorical        None   \n",
      "5                       odor  Feature  Categorical        None   \n",
      "6            gill-attachment  Feature  Categorical        None   \n",
      "7               gill-spacing  Feature  Categorical        None   \n",
      "8                  gill-size  Feature  Categorical        None   \n",
      "9                 gill-color  Feature  Categorical        None   \n",
      "10               stalk-shape  Feature  Categorical        None   \n",
      "11                stalk-root  Feature  Categorical        None   \n",
      "12  stalk-surface-above-ring  Feature  Categorical        None   \n",
      "13  stalk-surface-below-ring  Feature  Categorical        None   \n",
      "14    stalk-color-above-ring  Feature  Categorical        None   \n",
      "15    stalk-color-below-ring  Feature  Categorical        None   \n",
      "16                 veil-type  Feature       Binary        None   \n",
      "17                veil-color  Feature  Categorical        None   \n",
      "18               ring-number  Feature  Categorical        None   \n",
      "19                 ring-type  Feature  Categorical        None   \n",
      "20         spore-print-color  Feature  Categorical        None   \n",
      "21                population  Feature  Categorical        None   \n",
      "22                   habitat  Feature  Categorical        None   \n",
      "\n",
      "                                          description units missing_values  \n",
      "0                                                None  None             no  \n",
      "1   bell=b,conical=c,convex=x,flat=f, knobbed=k,su...  None             no  \n",
      "2                fibrous=f,grooves=g,scaly=y,smooth=s  None             no  \n",
      "3   brown=n,buff=b,cinnamon=c,gray=g,green=r, pink...  None             no  \n",
      "4                                      bruises=t,no=f  None             no  \n",
      "5   almond=a,anise=l,creosote=c,fishy=y,foul=f, mu...  None             no  \n",
      "6            attached=a,descending=d,free=f,notched=n  None             no  \n",
      "7                         close=c,crowded=w,distant=d  None             no  \n",
      "8                                    broad=b,narrow=n  None             no  \n",
      "9   black=k,brown=n,buff=b,chocolate=h,gray=g, gre...  None             no  \n",
      "10                             enlarging=e,tapering=t  None             no  \n",
      "11  bulbous=b,club=c,cup=u,equal=e, rhizomorphs=z,...  None            yes  \n",
      "12                 fibrous=f,scaly=y,silky=k,smooth=s  None             no  \n",
      "13                 fibrous=f,scaly=y,silky=k,smooth=s  None             no  \n",
      "14  brown=n,buff=b,cinnamon=c,gray=g,orange=o, pin...  None             no  \n",
      "15  brown=n,buff=b,cinnamon=c,gray=g,orange=o, pin...  None             no  \n",
      "16                              partial=p,universal=u  None             no  \n",
      "17                  brown=n,orange=o,white=w,yellow=y  None             no  \n",
      "18                                 none=n,one=o,two=t  None             no  \n",
      "19  cobwebby=c,evanescent=e,flaring=f,large=l, non...  None             no  \n",
      "20  black=k,brown=n,buff=b,chocolate=h,green=r, or...  None             no  \n",
      "21  abundant=a,clustered=c,numerous=n, scattered=s...  None             no  \n",
      "22  grasses=g,leaves=l,meadows=m,paths=p, urban=u,...  None             no  \n"
     ]
    }
   ],
   "source": [
    "# fetch dataset \n",
    "mushroom = fetch_ucirepo(id=73) \n",
    "  \n",
    "# data (as pandas dataframes) \n",
    "X = mushroom.data.features \n",
    "y = mushroom.data.targets \n",
    "  \n",
    "# variable information \n",
    "print(mushroom.variables) "
   ]
  },
  {
   "cell_type": "markdown",
   "metadata": {},
   "source": [
    "### View the first 5 rows\n",
    "\n",
    "Display the first 5 rows of the dataset. As we can see below, `poisonous` is the target variable that we will be predicting and the other columns are potential independent variables we can use for our model."
   ]
  },
  {
   "cell_type": "code",
   "execution_count": 152,
   "metadata": {},
   "outputs": [
    {
     "data": {
      "text/html": [
       "<div>\n",
       "<style scoped>\n",
       "    .dataframe tbody tr th:only-of-type {\n",
       "        vertical-align: middle;\n",
       "    }\n",
       "\n",
       "    .dataframe tbody tr th {\n",
       "        vertical-align: top;\n",
       "    }\n",
       "\n",
       "    .dataframe thead th {\n",
       "        text-align: right;\n",
       "    }\n",
       "</style>\n",
       "<table border=\"1\" class=\"dataframe\">\n",
       "  <thead>\n",
       "    <tr style=\"text-align: right;\">\n",
       "      <th></th>\n",
       "      <th>cap-shape</th>\n",
       "      <th>cap-surface</th>\n",
       "      <th>cap-color</th>\n",
       "      <th>bruises</th>\n",
       "      <th>odor</th>\n",
       "      <th>gill-attachment</th>\n",
       "      <th>gill-spacing</th>\n",
       "      <th>gill-size</th>\n",
       "      <th>gill-color</th>\n",
       "      <th>stalk-shape</th>\n",
       "      <th>...</th>\n",
       "      <th>stalk-color-above-ring</th>\n",
       "      <th>stalk-color-below-ring</th>\n",
       "      <th>veil-type</th>\n",
       "      <th>veil-color</th>\n",
       "      <th>ring-number</th>\n",
       "      <th>ring-type</th>\n",
       "      <th>spore-print-color</th>\n",
       "      <th>population</th>\n",
       "      <th>habitat</th>\n",
       "      <th>poisonous</th>\n",
       "    </tr>\n",
       "  </thead>\n",
       "  <tbody>\n",
       "    <tr>\n",
       "      <th>0</th>\n",
       "      <td>x</td>\n",
       "      <td>s</td>\n",
       "      <td>n</td>\n",
       "      <td>t</td>\n",
       "      <td>p</td>\n",
       "      <td>f</td>\n",
       "      <td>c</td>\n",
       "      <td>n</td>\n",
       "      <td>k</td>\n",
       "      <td>e</td>\n",
       "      <td>...</td>\n",
       "      <td>w</td>\n",
       "      <td>w</td>\n",
       "      <td>p</td>\n",
       "      <td>w</td>\n",
       "      <td>o</td>\n",
       "      <td>p</td>\n",
       "      <td>k</td>\n",
       "      <td>s</td>\n",
       "      <td>u</td>\n",
       "      <td>p</td>\n",
       "    </tr>\n",
       "    <tr>\n",
       "      <th>1</th>\n",
       "      <td>x</td>\n",
       "      <td>s</td>\n",
       "      <td>y</td>\n",
       "      <td>t</td>\n",
       "      <td>a</td>\n",
       "      <td>f</td>\n",
       "      <td>c</td>\n",
       "      <td>b</td>\n",
       "      <td>k</td>\n",
       "      <td>e</td>\n",
       "      <td>...</td>\n",
       "      <td>w</td>\n",
       "      <td>w</td>\n",
       "      <td>p</td>\n",
       "      <td>w</td>\n",
       "      <td>o</td>\n",
       "      <td>p</td>\n",
       "      <td>n</td>\n",
       "      <td>n</td>\n",
       "      <td>g</td>\n",
       "      <td>e</td>\n",
       "    </tr>\n",
       "    <tr>\n",
       "      <th>2</th>\n",
       "      <td>b</td>\n",
       "      <td>s</td>\n",
       "      <td>w</td>\n",
       "      <td>t</td>\n",
       "      <td>l</td>\n",
       "      <td>f</td>\n",
       "      <td>c</td>\n",
       "      <td>b</td>\n",
       "      <td>n</td>\n",
       "      <td>e</td>\n",
       "      <td>...</td>\n",
       "      <td>w</td>\n",
       "      <td>w</td>\n",
       "      <td>p</td>\n",
       "      <td>w</td>\n",
       "      <td>o</td>\n",
       "      <td>p</td>\n",
       "      <td>n</td>\n",
       "      <td>n</td>\n",
       "      <td>m</td>\n",
       "      <td>e</td>\n",
       "    </tr>\n",
       "    <tr>\n",
       "      <th>3</th>\n",
       "      <td>x</td>\n",
       "      <td>y</td>\n",
       "      <td>w</td>\n",
       "      <td>t</td>\n",
       "      <td>p</td>\n",
       "      <td>f</td>\n",
       "      <td>c</td>\n",
       "      <td>n</td>\n",
       "      <td>n</td>\n",
       "      <td>e</td>\n",
       "      <td>...</td>\n",
       "      <td>w</td>\n",
       "      <td>w</td>\n",
       "      <td>p</td>\n",
       "      <td>w</td>\n",
       "      <td>o</td>\n",
       "      <td>p</td>\n",
       "      <td>k</td>\n",
       "      <td>s</td>\n",
       "      <td>u</td>\n",
       "      <td>p</td>\n",
       "    </tr>\n",
       "    <tr>\n",
       "      <th>4</th>\n",
       "      <td>x</td>\n",
       "      <td>s</td>\n",
       "      <td>g</td>\n",
       "      <td>f</td>\n",
       "      <td>n</td>\n",
       "      <td>f</td>\n",
       "      <td>w</td>\n",
       "      <td>b</td>\n",
       "      <td>k</td>\n",
       "      <td>t</td>\n",
       "      <td>...</td>\n",
       "      <td>w</td>\n",
       "      <td>w</td>\n",
       "      <td>p</td>\n",
       "      <td>w</td>\n",
       "      <td>o</td>\n",
       "      <td>e</td>\n",
       "      <td>n</td>\n",
       "      <td>a</td>\n",
       "      <td>g</td>\n",
       "      <td>e</td>\n",
       "    </tr>\n",
       "  </tbody>\n",
       "</table>\n",
       "<p>5 rows × 23 columns</p>\n",
       "</div>"
      ],
      "text/plain": [
       "  cap-shape cap-surface cap-color bruises odor gill-attachment gill-spacing  \\\n",
       "0         x           s         n       t    p               f            c   \n",
       "1         x           s         y       t    a               f            c   \n",
       "2         b           s         w       t    l               f            c   \n",
       "3         x           y         w       t    p               f            c   \n",
       "4         x           s         g       f    n               f            w   \n",
       "\n",
       "  gill-size gill-color stalk-shape  ... stalk-color-above-ring  \\\n",
       "0         n          k           e  ...                      w   \n",
       "1         b          k           e  ...                      w   \n",
       "2         b          n           e  ...                      w   \n",
       "3         n          n           e  ...                      w   \n",
       "4         b          k           t  ...                      w   \n",
       "\n",
       "  stalk-color-below-ring veil-type veil-color ring-number ring-type  \\\n",
       "0                      w         p          w           o         p   \n",
       "1                      w         p          w           o         p   \n",
       "2                      w         p          w           o         p   \n",
       "3                      w         p          w           o         p   \n",
       "4                      w         p          w           o         e   \n",
       "\n",
       "  spore-print-color population habitat poisonous  \n",
       "0                 k          s       u         p  \n",
       "1                 n          n       g         e  \n",
       "2                 n          n       m         e  \n",
       "3                 k          s       u         p  \n",
       "4                 n          a       g         e  \n",
       "\n",
       "[5 rows x 23 columns]"
      ]
     },
     "execution_count": 152,
     "metadata": {},
     "output_type": "execute_result"
    }
   ],
   "source": [
    "# Combine the features and target into a single DataFrame\n",
    "df_mushroom = pd.concat([X, y], axis=1)\n",
    "\n",
    "# Display the first 5 rows of the DataFrame\n",
    "df_mushroom.head()"
   ]
  },
  {
   "cell_type": "markdown",
   "metadata": {},
   "source": [
    "## Step 2: Data exploration, data cleaning, and model preparation\n",
    "### Explore the data\n",
    "\n",
    "Before constructing any models, it is important to explore the data to better understand its shape, whether any data is missing, and what each column means. In the case of this mushroom dataset, each column represents a categorical variable with data taking the form of a single letter. This letter is difficult to understand at a glance because and also needs to be transformed into numeric data in order to be used in a binomial logistic regression model. We will transform the data later, but first we will explore the data shape and data types. "
   ]
  },
  {
   "cell_type": "code",
   "execution_count": 153,
   "metadata": {},
   "outputs": [
    {
     "data": {
      "text/plain": [
       "cap-shape                   object\n",
       "cap-surface                 object\n",
       "cap-color                   object\n",
       "bruises                     object\n",
       "odor                        object\n",
       "gill-attachment             object\n",
       "gill-spacing                object\n",
       "gill-size                   object\n",
       "gill-color                  object\n",
       "stalk-shape                 object\n",
       "stalk-root                  object\n",
       "stalk-surface-above-ring    object\n",
       "stalk-surface-below-ring    object\n",
       "stalk-color-above-ring      object\n",
       "stalk-color-below-ring      object\n",
       "veil-type                   object\n",
       "veil-color                  object\n",
       "ring-number                 object\n",
       "ring-type                   object\n",
       "spore-print-color           object\n",
       "population                  object\n",
       "habitat                     object\n",
       "poisonous                   object\n",
       "dtype: object"
      ]
     },
     "execution_count": 153,
     "metadata": {},
     "output_type": "execute_result"
    }
   ],
   "source": [
    "# Print the data types of each column\n",
    "df_mushroom.dtypes"
   ]
  },
  {
   "cell_type": "markdown",
   "metadata": {},
   "source": [
    "### Check the shape of the dataset\n",
    "\n",
    "It appears that there are 8124 rows with 23 columns, as expected, with each column being an object data type."
   ]
  },
  {
   "cell_type": "code",
   "execution_count": 154,
   "metadata": {},
   "outputs": [
    {
     "data": {
      "text/plain": [
       "(8124, 23)"
      ]
     },
     "execution_count": 154,
     "metadata": {},
     "output_type": "execute_result"
    }
   ],
   "source": [
    "# Print the shape of the dataset\n",
    "df_mushroom.shape"
   ]
  },
  {
   "cell_type": "markdown",
   "metadata": {},
   "source": [
    "### Check how many poisonous mushrooms there are\n",
    "\n",
    "From the code below, we can see that 4208 mushrooms are classified as edible, and 3916 are classified as poisonous. "
   ]
  },
  {
   "cell_type": "code",
   "execution_count": 155,
   "metadata": {},
   "outputs": [
    {
     "data": {
      "text/plain": [
       "poisonous\n",
       "e    4208\n",
       "p    3916\n",
       "Name: count, dtype: int64"
      ]
     },
     "execution_count": 155,
     "metadata": {},
     "output_type": "execute_result"
    }
   ],
   "source": [
    "# Count the values of the 'poisonous' column\n",
    "df_mushroom['poisonous'].value_counts()"
   ]
  },
  {
   "cell_type": "markdown",
   "metadata": {},
   "source": [
    "### Transform column values\n",
    "\n",
    "As we saw when we viewed the first 5 rows of the dataset, each column is made up of singlular letters which are hard to understand. For example, a value of \"y\" in the `cap-surface` column indicates scaly, this would be impossible to figure out at a glance. \n",
    "\n",
    "To make the data more easily intepretable, lets transform each column according to the mapping provided by UCI."
   ]
  },
  {
   "cell_type": "code",
   "execution_count": 156,
   "metadata": {},
   "outputs": [
    {
     "name": "stderr",
     "output_type": "stream",
     "text": [
      "C:\\Users\\Alex\\AppData\\Local\\Temp\\ipykernel_28688\\1990007938.py:29: FutureWarning: Downcasting behavior in `replace` is deprecated and will be removed in a future version. To retain the old behavior, explicitly call `result.infer_objects(copy=False)`. To opt-in to the future behavior, set `pd.set_option('future.no_silent_downcasting', True)`\n",
      "  df_mushroom.replace(mappings, inplace=True)\n"
     ]
    },
    {
     "data": {
      "text/html": [
       "<div>\n",
       "<style scoped>\n",
       "    .dataframe tbody tr th:only-of-type {\n",
       "        vertical-align: middle;\n",
       "    }\n",
       "\n",
       "    .dataframe tbody tr th {\n",
       "        vertical-align: top;\n",
       "    }\n",
       "\n",
       "    .dataframe thead th {\n",
       "        text-align: right;\n",
       "    }\n",
       "</style>\n",
       "<table border=\"1\" class=\"dataframe\">\n",
       "  <thead>\n",
       "    <tr style=\"text-align: right;\">\n",
       "      <th></th>\n",
       "      <th>cap-shape</th>\n",
       "      <th>cap-surface</th>\n",
       "      <th>cap-color</th>\n",
       "      <th>bruises</th>\n",
       "      <th>odor</th>\n",
       "      <th>gill-attachment</th>\n",
       "      <th>gill-spacing</th>\n",
       "      <th>gill-size</th>\n",
       "      <th>gill-color</th>\n",
       "      <th>stalk-shape</th>\n",
       "      <th>...</th>\n",
       "      <th>stalk-color-above-ring</th>\n",
       "      <th>stalk-color-below-ring</th>\n",
       "      <th>veil-type</th>\n",
       "      <th>veil-color</th>\n",
       "      <th>ring-number</th>\n",
       "      <th>ring-type</th>\n",
       "      <th>spore-print-color</th>\n",
       "      <th>population</th>\n",
       "      <th>habitat</th>\n",
       "      <th>poisonous</th>\n",
       "    </tr>\n",
       "  </thead>\n",
       "  <tbody>\n",
       "    <tr>\n",
       "      <th>0</th>\n",
       "      <td>convex</td>\n",
       "      <td>smooth</td>\n",
       "      <td>brown</td>\n",
       "      <td>t</td>\n",
       "      <td>pungent</td>\n",
       "      <td>free</td>\n",
       "      <td>close</td>\n",
       "      <td>narrow</td>\n",
       "      <td>black</td>\n",
       "      <td>enlarging</td>\n",
       "      <td>...</td>\n",
       "      <td>white</td>\n",
       "      <td>white</td>\n",
       "      <td>partial</td>\n",
       "      <td>white</td>\n",
       "      <td>1</td>\n",
       "      <td>pendant</td>\n",
       "      <td>black</td>\n",
       "      <td>scattered</td>\n",
       "      <td>urban</td>\n",
       "      <td>poisonous</td>\n",
       "    </tr>\n",
       "    <tr>\n",
       "      <th>1</th>\n",
       "      <td>convex</td>\n",
       "      <td>smooth</td>\n",
       "      <td>yellow</td>\n",
       "      <td>t</td>\n",
       "      <td>almond</td>\n",
       "      <td>free</td>\n",
       "      <td>close</td>\n",
       "      <td>broad</td>\n",
       "      <td>black</td>\n",
       "      <td>enlarging</td>\n",
       "      <td>...</td>\n",
       "      <td>white</td>\n",
       "      <td>white</td>\n",
       "      <td>partial</td>\n",
       "      <td>white</td>\n",
       "      <td>1</td>\n",
       "      <td>pendant</td>\n",
       "      <td>brown</td>\n",
       "      <td>numerous</td>\n",
       "      <td>grasses</td>\n",
       "      <td>edible</td>\n",
       "    </tr>\n",
       "    <tr>\n",
       "      <th>2</th>\n",
       "      <td>bell</td>\n",
       "      <td>smooth</td>\n",
       "      <td>white</td>\n",
       "      <td>t</td>\n",
       "      <td>anise</td>\n",
       "      <td>free</td>\n",
       "      <td>close</td>\n",
       "      <td>broad</td>\n",
       "      <td>brown</td>\n",
       "      <td>enlarging</td>\n",
       "      <td>...</td>\n",
       "      <td>white</td>\n",
       "      <td>white</td>\n",
       "      <td>partial</td>\n",
       "      <td>white</td>\n",
       "      <td>1</td>\n",
       "      <td>pendant</td>\n",
       "      <td>brown</td>\n",
       "      <td>numerous</td>\n",
       "      <td>meadows</td>\n",
       "      <td>edible</td>\n",
       "    </tr>\n",
       "    <tr>\n",
       "      <th>3</th>\n",
       "      <td>convex</td>\n",
       "      <td>scaly</td>\n",
       "      <td>white</td>\n",
       "      <td>t</td>\n",
       "      <td>pungent</td>\n",
       "      <td>free</td>\n",
       "      <td>close</td>\n",
       "      <td>narrow</td>\n",
       "      <td>brown</td>\n",
       "      <td>enlarging</td>\n",
       "      <td>...</td>\n",
       "      <td>white</td>\n",
       "      <td>white</td>\n",
       "      <td>partial</td>\n",
       "      <td>white</td>\n",
       "      <td>1</td>\n",
       "      <td>pendant</td>\n",
       "      <td>black</td>\n",
       "      <td>scattered</td>\n",
       "      <td>urban</td>\n",
       "      <td>poisonous</td>\n",
       "    </tr>\n",
       "    <tr>\n",
       "      <th>4</th>\n",
       "      <td>convex</td>\n",
       "      <td>smooth</td>\n",
       "      <td>gray</td>\n",
       "      <td>f</td>\n",
       "      <td>none</td>\n",
       "      <td>free</td>\n",
       "      <td>crowded</td>\n",
       "      <td>broad</td>\n",
       "      <td>black</td>\n",
       "      <td>tapering</td>\n",
       "      <td>...</td>\n",
       "      <td>white</td>\n",
       "      <td>white</td>\n",
       "      <td>partial</td>\n",
       "      <td>white</td>\n",
       "      <td>1</td>\n",
       "      <td>evanescent</td>\n",
       "      <td>brown</td>\n",
       "      <td>abundant</td>\n",
       "      <td>grasses</td>\n",
       "      <td>edible</td>\n",
       "    </tr>\n",
       "  </tbody>\n",
       "</table>\n",
       "<p>5 rows × 23 columns</p>\n",
       "</div>"
      ],
      "text/plain": [
       "  cap-shape cap-surface cap-color bruises     odor gill-attachment  \\\n",
       "0    convex      smooth     brown       t  pungent            free   \n",
       "1    convex      smooth    yellow       t   almond            free   \n",
       "2      bell      smooth     white       t    anise            free   \n",
       "3    convex       scaly     white       t  pungent            free   \n",
       "4    convex      smooth      gray       f     none            free   \n",
       "\n",
       "  gill-spacing gill-size gill-color stalk-shape  ... stalk-color-above-ring  \\\n",
       "0        close    narrow      black   enlarging  ...                  white   \n",
       "1        close     broad      black   enlarging  ...                  white   \n",
       "2        close     broad      brown   enlarging  ...                  white   \n",
       "3        close    narrow      brown   enlarging  ...                  white   \n",
       "4      crowded     broad      black    tapering  ...                  white   \n",
       "\n",
       "  stalk-color-below-ring veil-type veil-color ring-number   ring-type  \\\n",
       "0                  white   partial      white           1     pendant   \n",
       "1                  white   partial      white           1     pendant   \n",
       "2                  white   partial      white           1     pendant   \n",
       "3                  white   partial      white           1     pendant   \n",
       "4                  white   partial      white           1  evanescent   \n",
       "\n",
       "  spore-print-color  population  habitat  poisonous  \n",
       "0             black   scattered    urban  poisonous  \n",
       "1             brown    numerous  grasses     edible  \n",
       "2             brown    numerous  meadows     edible  \n",
       "3             black   scattered    urban  poisonous  \n",
       "4             brown    abundant  grasses     edible  \n",
       "\n",
       "[5 rows x 23 columns]"
      ]
     },
     "execution_count": 156,
     "metadata": {},
     "output_type": "execute_result"
    }
   ],
   "source": [
    "# Define the mapping for all categorical columns\n",
    "mappings = {\n",
    "    'cap-shape': {'b': 'bell', 'c': 'conical', 'x': 'convex', 'f': 'flat', 'k': 'knobbed', 's': 'sunken'},\n",
    "    'cap-surface': {'f': 'fibrous', 'g': 'grooves', 'y': 'scaly', 's': 'smooth'},\n",
    "    'cap-color': {'n': 'brown', 'b': 'buff', 'c': 'cinnamon', 'g': 'gray', 'r': 'green', 'p': 'pink', 'u': 'purple', 'e': 'red', 'w': 'white', 'y': 'yellow'},\n",
    "    'bruises?': {'t': 'bruises', 'f': 'no'},\n",
    "    'odor': {'a': 'almond', 'l': 'anise', 'c': 'creosote', 'y': 'fishy', 'f': 'foul', 'm': 'musty', 'n': 'none', 'p': 'pungent', 's': 'spicy'},\n",
    "    'gill-attachment': {'a': 'attached', 'd': 'descending', 'f': 'free', 'n': 'notched'},\n",
    "    'gill-spacing': {'c': 'close', 'w': 'crowded', 'd': 'distant'},\n",
    "    'gill-size': {'b': 'broad', 'n': 'narrow'},\n",
    "    'gill-color': {'k': 'black', 'n': 'brown', 'b': 'buff', 'h': 'chocolate', 'g': 'gray', 'r': 'green', 'o': 'orange', 'p': 'pink', 'u': 'purple', 'e': 'red', 'w': 'white', 'y': 'yellow'},\n",
    "    'stalk-shape': {'e': 'enlarging', 't': 'tapering'},\n",
    "    'stalk-root': {'b': 'bulbous', 'c': 'club', 'u': 'cup', 'e': 'equal', 'z': 'rhizomorphs', 'r': 'rooted', '?': 'missing'},\n",
    "    'stalk-surface-above-ring': {'f': 'fibrous', 'y': 'scaly', 'k': 'silky', 's': 'smooth'},\n",
    "    'stalk-surface-below-ring': {'f': 'fibrous', 'y': 'scaly', 'k': 'silky', 's': 'smooth'},\n",
    "    'stalk-color-above-ring': {'n': 'brown', 'b': 'buff', 'c': 'cinnamon', 'g': 'gray', 'o': 'orange', 'p': 'pink', 'e': 'red', 'w': 'white', 'y': 'yellow'},\n",
    "    'stalk-color-below-ring': {'n': 'brown', 'b': 'buff', 'c': 'cinnamon', 'g': 'gray', 'o': 'orange', 'p': 'pink', 'e': 'red', 'w': 'white', 'y': 'yellow'},\n",
    "    'veil-type': {'p': 'partial', 'u': 'universal'},\n",
    "    'veil-color': {'n': 'brown', 'o': 'orange', 'w': 'white', 'y': 'yellow'},\n",
    "    'ring-number': {'n': 0, 'o': 1, 't': 2},\n",
    "    'ring-type': {'c': 'cobwebby', 'e': 'evanescent', 'f': 'flaring', 'l': 'large', 'n': 'none', 'p': 'pendant', 's': 'sheathing', 'z': 'zone'},\n",
    "    'spore-print-color': {'k': 'black', 'n': 'brown', 'b': 'buff', 'h': 'chocolate', 'r': 'green', 'o': 'orange', 'u': 'purple', 'w': 'white', 'y': 'yellow'},\n",
    "    'population': {'a': 'abundant', 'c': 'clustered', 'n': 'numerous', 's': 'scattered', 'v': 'several', 'y': 'solitary'},\n",
    "    'habitat': {'g': 'grasses', 'l': 'leaves', 'm': 'meadows', 'p': 'paths', 'u': 'urban', 'w': 'waste', 'd': 'woods'},\n",
    "    'poisonous': {'p': 'poisonous', 'e': 'edible'}\n",
    "}\n",
    "\n",
    "# Apply the mapping to all relevant columns\n",
    "df_mushroom.replace(mappings, inplace=True)\n",
    "\n",
    "# Verify transformation by displaying first 5 rows\n",
    "df_mushroom .head()"
   ]
  },
  {
   "cell_type": "markdown",
   "metadata": {},
   "source": [
    "This looks much better! Now we can actually understand what each observation means within each column. Lets move forward with the analysis and examine null values."
   ]
  },
  {
   "cell_type": "markdown",
   "metadata": {},
   "source": [
    "### Check for Null values in the data\n",
    "\n",
    "It looks like every column has 0 missing values, except for `stalk-root` which has 2,480 missing values. This means approximately 25% of rows are missing data for this column. Because I have no way of gathering the missing data, I could remove the column since there are 21 other columns to use for building the model. However, if there is a strong relationship between `stalk-root` and whether the mushroom is poisonous then this might not make sense, and we would lose valuable predictive information."
   ]
  },
  {
   "cell_type": "code",
   "execution_count": 157,
   "metadata": {},
   "outputs": [
    {
     "data": {
      "text/plain": [
       "cap-shape                      0\n",
       "cap-surface                    0\n",
       "cap-color                      0\n",
       "bruises                        0\n",
       "odor                           0\n",
       "gill-attachment                0\n",
       "gill-spacing                   0\n",
       "gill-size                      0\n",
       "gill-color                     0\n",
       "stalk-shape                    0\n",
       "stalk-root                  2480\n",
       "stalk-surface-above-ring       0\n",
       "stalk-surface-below-ring       0\n",
       "stalk-color-above-ring         0\n",
       "stalk-color-below-ring         0\n",
       "veil-type                      0\n",
       "veil-color                     0\n",
       "ring-number                    0\n",
       "ring-type                      0\n",
       "spore-print-color              0\n",
       "population                     0\n",
       "habitat                        0\n",
       "poisonous                      0\n",
       "dtype: int64"
      ]
     },
     "execution_count": 157,
     "metadata": {},
     "output_type": "execute_result"
    }
   ],
   "source": [
    "# Count the number of missing values in each column\n",
    "df_mushroom.isnull().sum()"
   ]
  },
  {
   "cell_type": "markdown",
   "metadata": {},
   "source": [
    "### Chi-Square Test of Independence\n",
    "\n",
    "To determine whether I should remove the column, I will use a Chi-Square Test of Independence to see if there is a significant association between `stalk-root` and `poisonous`. The Chi-Square Test of Independence calculations are based on the actual and expected number of observations in each combined group. We will evaluate a null and alternative hypothesis as follows:\n",
    "- **Null Hypothesis (H₀):**  There is no association between the `stalk-root` and whether the mushroom is poisonous or edible. In other words, the distribution of `stalk-root` is independent of the `poisonous` variable.\n",
    "\n",
    "- **Alternative Hypothesis (H₁):**  There is a significant association between the `stalk-root` and whether the mushroom is poisonous or edible. This means that the `stalk-root` variable may be useful in predicting whether a mushroom is poisonous.\n",
    "\n",
    "We will use the `crosstab` function within the `scipy.stats` package to create a contingency table, which shows the number of observations in each combination of groups."
   ]
  },
  {
   "cell_type": "code",
   "execution_count": 158,
   "metadata": {},
   "outputs": [
    {
     "name": "stdout",
     "output_type": "stream",
     "text": [
      "poisonous   edible  poisonous\n",
      "stalk-root                   \n",
      "bulbous       1920       1856\n",
      "club           512         44\n",
      "equal          864        256\n",
      "rooted         192          0\n"
     ]
    }
   ],
   "source": [
    "# Drop rows with missing values for the column of interest\n",
    "df_clean = df_mushroom.dropna(subset=['stalk-root'])\n",
    "\n",
    "# Create a contingency table\n",
    "contingency_table = pd.crosstab(df_clean['stalk-root'], df_clean['poisonous'])\n",
    "print(contingency_table)"
   ]
  },
  {
   "cell_type": "code",
   "execution_count": 159,
   "metadata": {},
   "outputs": [
    {
     "name": "stdout",
     "output_type": "stream",
     "text": [
      "Chi-Square Statistic: 638.2637626946303\n",
      "P-value: 5.103920794627432e-138\n",
      "Degrees of Freedom: 3\n",
      "Expected Frequencies Table:\n",
      " [[2333.57335223 1442.42664777]\n",
      " [ 343.60878809  212.39121191]\n",
      " [ 692.16158753  427.83841247]\n",
      " [ 118.65627215   73.34372785]]\n",
      "The variable is significantly related to the target variable.\n"
     ]
    }
   ],
   "source": [
    "# Perform the Chi-Square test\n",
    "chi_sq, p, dof, expected = stats.chi2_contingency(contingency_table)\n",
    "\n",
    "# Display results\n",
    "print(f\"Chi-Square Statistic: {chi_sq}\")\n",
    "print(f\"P-value: {p}\")\n",
    "print(f\"Degrees of Freedom: {dof}\")\n",
    "print(\"Expected Frequencies Table:\\n\", expected)\n",
    "\n",
    "# Interpretation\n",
    "if p < 0.05:\n",
    "    print(\"The variable is significantly related to the target variable.\")\n",
    "else:\n",
    "    print(\"No strong evidence of a relationship between the variable and the target variable.\")"
   ]
  },
  {
   "cell_type": "markdown",
   "metadata": {},
   "source": [
    "In the code above, the chi-square statistic (`chi2`) is calculated by taking the summation across all groups of the observed frequency minus the expected frequency, squared, divided by the expected frequency. The follwoing formula is used.\n",
    "\n",
    "χ² = Σ [(O_i - E_i)² / E_i]\n",
    "\n",
    "Where:\n",
    "- `O_i` = Observed frequency (actual count from data)\n",
    "- `E_i` = Expected frequency (calculated under the assumption of independence)\n",
    "- The sum (Σ) is taken over all categories in the contingency table.\n",
    "\n",
    "In the output above, we can see the chi-square test statistic is `638.26`. We can compare this to a critical value to determine whether it is large enough to reject the null hypothesis that the two variables are unrelated. To calculate the critical chi-square value, we use the following code."
   ]
  },
  {
   "cell_type": "code",
   "execution_count": 160,
   "metadata": {},
   "outputs": [
    {
     "name": "stdout",
     "output_type": "stream",
     "text": [
      "Chi-Squared Critical Value: 7.814727903251179\n"
     ]
    }
   ],
   "source": [
    "# Calculate the critical value for significance level 0.05\n",
    "a = 0.05\n",
    "critical_value = chi2.ppf(1 - a, dof)\n",
    "print(f\"Chi-Squared Critical Value: {critical_value}\")"
   ]
  },
  {
   "cell_type": "markdown",
   "metadata": {},
   "source": [
    "Since our chi-square statistic is significantly larger than 7.81, we reject the null hypothesis, meaning there is a statistically significant association between `stalk-root` and `poisonous`. Additionally, the p-value is extremely small (5.1*10^-138) which suggests there is a highly significant relationship between the two variables, thus providing further evidence to reject the null hypothesis.\n",
    "\n",
    "### Transform categorical variables into numeric data type\n",
    "\n",
    "With this in mind, it does not make sense to drop this column because it has a significant relationship with whether the mushroom is poisonous or not. We also cannot simply remove rows where `stalk-root` is missing because that would remove 25% of the data. For now lets first create a new dataframe where our categorical variables are transformed into numeric type. To do this we must use either Label Encoding or One Hot Encoding."
   ]
  },
  {
   "cell_type": "code",
   "execution_count": 165,
   "metadata": {},
   "outputs": [
    {
     "data": {
      "text/plain": [
       "veil-type                    1\n",
       "poisonous                    2\n",
       "bruises                      2\n",
       "gill-attachment              2\n",
       "gill-spacing                 2\n",
       "gill-size                    2\n",
       "stalk-shape                  2\n",
       "ring-number                  3\n",
       "veil-color                   4\n",
       "stalk-surface-below-ring     4\n",
       "stalk-surface-above-ring     4\n",
       "cap-surface                  4\n",
       "stalk-root                   4\n",
       "ring-type                    5\n",
       "population                   6\n",
       "cap-shape                    6\n",
       "habitat                      7\n",
       "stalk-color-above-ring       9\n",
       "stalk-color-below-ring       9\n",
       "odor                         9\n",
       "spore-print-color            9\n",
       "cap-color                   10\n",
       "gill-color                  12\n",
       "dtype: int64"
      ]
     },
     "execution_count": 165,
     "metadata": {},
     "output_type": "execute_result"
    }
   ],
   "source": [
    "# Get the number of unique values per column\n",
    "unique_values = df_mushroom.nunique().sort_values()\n",
    "unique_values"
   ]
  },
  {
   "cell_type": "markdown",
   "metadata": {},
   "source": [
    "Given that all of our categorical columns contain nominal features, **One Hot Encoding** is the best choice for transforming the variables into numeric type. Label Encoding does not make sense because none of our variables are ordinal, and hence coding them as unique numbers in the same column might introduce a misleading ordinal relationship that would only be approproate if the data had some inherent order. One Hot Encoding converts categorical variables into binary format by introducing new dummy variable columns for each unique category of that variable. \n",
    "\n",
    "### Feature selection\n",
    "\n",
    "Before implementing this with Python, we must first consider that many of our variables have a high number of unique values, as seen above. For example, `gill-color` has 12 unique values which means that 11 columns will be created to cover each color. Thus, One Hot Encoding will significantly increase the number of features which could make interpretation more difficult and lead to overfitting. To help reduce complexity, lets perform the chi square test of independence on each categorical variable to see if we can drop any irrelevant variables from our analysis."
   ]
  },
  {
   "cell_type": "code",
   "execution_count": 168,
   "metadata": {},
   "outputs": [
    {
     "name": "stdout",
     "output_type": "stream",
     "text": [
      "                                p_value\n",
      "habitat                    0.000000e+00\n",
      "spore-print-color          0.000000e+00\n",
      "ring-type                  0.000000e+00\n",
      "bruises                    0.000000e+00\n",
      "odor                       0.000000e+00\n",
      "stalk-color-below-ring     0.000000e+00\n",
      "gill-size                  0.000000e+00\n",
      "gill-color                 0.000000e+00\n",
      "stalk-color-above-ring     0.000000e+00\n",
      "population                 0.000000e+00\n",
      "stalk-surface-above-ring   0.000000e+00\n",
      "stalk-surface-below-ring   0.000000e+00\n",
      "gill-spacing              5.022978e-216\n",
      "stalk-root                5.103921e-138\n",
      "cap-shape                 1.196457e-103\n",
      "cap-color                  6.055815e-78\n",
      "cap-surface                5.518427e-68\n",
      "veil-color                 3.320973e-41\n",
      "gill-attachment            5.501707e-31\n",
      "stalk-shape                4.604746e-20\n",
      "veil-type                  1.000000e+00\n"
     ]
    }
   ],
   "source": [
    "# Get the column names of categorical columns, removing the target column and single numeric column\n",
    "categorical_cols = df_mushroom.drop(columns=['poisonous','ring-number']).columns\n",
    "\n",
    "# Dictionary to store p-values\n",
    "chi2_results = {}\n",
    "\n",
    "# Perform chi-square test for each categorical column\n",
    "for col in categorical_cols:\n",
    "    contingency_table = pd.crosstab(df_mushroom[col], df_mushroom['poisonous'])  # Create contingency table\n",
    "    chi2, p, dof, expected = stats.chi2_contingency(contingency_table)  # Perform chi-square test\n",
    "    chi2_results[col] = p  # Store p-value\n",
    "\n",
    "# Convert results to a DataFrame and sort by significance\n",
    "chi2_df = pd.DataFrame.from_dict(chi2_results, orient='index', columns=['p_value']).sort_values(by='p_value')\n",
    "\n",
    "# Display results\n",
    "print(chi2_df)\n"
   ]
  }
 ],
 "metadata": {
  "kernelspec": {
   "display_name": "base",
   "language": "python",
   "name": "python3"
  },
  "language_info": {
   "codemirror_mode": {
    "name": "ipython",
    "version": 3
   },
   "file_extension": ".py",
   "mimetype": "text/x-python",
   "name": "python",
   "nbconvert_exporter": "python",
   "pygments_lexer": "ipython3",
   "version": "3.12.7"
  }
 },
 "nbformat": 4,
 "nbformat_minor": 2
}
